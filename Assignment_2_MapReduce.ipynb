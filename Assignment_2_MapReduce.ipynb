{
 "cells": [
  {
   "cell_type": "markdown",
   "id": "852e431a",
   "metadata": {},
   "source": [
    "# This is just a tutorial to use map reduce using the mrjob package\n",
    "Follow the tutorial and link here [WEB LINK](https://mrjob.readthedocs.io/en/latest/guides/quickstart.html)"
   ]
  },
  {
   "cell_type": "code",
   "execution_count": 1,
   "id": "bd896537",
   "metadata": {},
   "outputs": [],
   "source": [
    "from mrjob.job import MRJob"
   ]
  },
  {
   "cell_type": "code",
   "execution_count": 2,
   "id": "22d8b3b7",
   "metadata": {},
   "outputs": [],
   "source": [
    "# tutorial area"
   ]
  },
  {
   "cell_type": "code",
   "execution_count": null,
   "id": "5a9abb3d",
   "metadata": {},
   "outputs": [
    {
     "name": "stdout",
     "output_type": "stream",
     "text": [
      "happening\n",
      "{'japanning', 'apennine', 'penning', 'happening'}\n"
     ]
    }
   ],
   "source": [
    "# test out spellchecker\n",
    "from spellchecker import SpellChecker\n",
    "\n",
    "# spell = SpellChecker() # defauls\n",
    "spell = SpellChecker(language='en') # specify that we should use the English Dictionary\n",
    "\n",
    "# find those words that may be misspelled\n",
    "misspelled = spell.unknown(['something', 'is', 'hapenning', 'here'])\n",
    "\n",
    "for word in misspelled:\n",
    "    # Get the one `most likely` answer\n",
    "    print(spell.correction(word))\n",
    "\n",
    "    # Get a list of `likely` options\n",
    "    print(spell.candidates(word))"
   ]
  },
  {
   "cell_type": "code",
   "execution_count": null,
   "id": "1a09cbff",
   "metadata": {},
   "outputs": [],
   "source": []
  }
 ],
 "metadata": {
  "kernelspec": {
   "display_name": "base",
   "language": "python",
   "name": "python3"
  },
  "language_info": {
   "codemirror_mode": {
    "name": "ipython",
    "version": 3
   },
   "file_extension": ".py",
   "mimetype": "text/x-python",
   "name": "python",
   "nbconvert_exporter": "python",
   "pygments_lexer": "ipython3",
   "version": "3.12.4"
  }
 },
 "nbformat": 4,
 "nbformat_minor": 5
}
