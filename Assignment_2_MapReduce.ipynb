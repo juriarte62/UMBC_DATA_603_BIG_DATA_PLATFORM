{
 "cells": [
  {
   "cell_type": "markdown",
   "id": "852e431a",
   "metadata": {},
   "source": [
    "# This is just a tutorial to use map reduce using the mrjob package\n",
    "Follow the tutorial and link here [WEB LINK](https://mrjob.readthedocs.io/en/latest/guides/quickstart.html)"
   ]
  },
  {
   "cell_type": "code",
   "execution_count": 1,
   "id": "bd896537",
   "metadata": {},
   "outputs": [],
   "source": [
    "from mrjob.job import MRJob"
   ]
  },
  {
   "cell_type": "code",
   "execution_count": null,
   "id": "22d8b3b7",
   "metadata": {},
   "outputs": [
    {
     "ename": "OSError",
     "evalue": "source code not available",
     "output_type": "error",
     "traceback": [
      "\u001b[1;31m---------------------------------------------------------------------------\u001b[0m",
      "\u001b[1;31mOSError\u001b[0m                                   Traceback (most recent call last)",
      "Cell \u001b[1;32mIn[2], line 13\u001b[0m\n\u001b[0;32m      9\u001b[0m         \u001b[38;5;28;01myield\u001b[39;00m key, \u001b[38;5;28msum\u001b[39m(values)\n\u001b[0;32m     12\u001b[0m \u001b[38;5;28;01mif\u001b[39;00m \u001b[38;5;18m__name__\u001b[39m \u001b[38;5;241m==\u001b[39m \u001b[38;5;124m'\u001b[39m\u001b[38;5;124m__main__\u001b[39m\u001b[38;5;124m'\u001b[39m:\n\u001b[1;32m---> 13\u001b[0m     MRWordFrequencyCount\u001b[38;5;241m.\u001b[39mrun()\n",
      "File \u001b[1;32mc:\\Users\\jonat\\anaconda3\\Lib\\site-packages\\mrjob\\job.py:616\u001b[0m, in \u001b[0;36mMRJob.run\u001b[1;34m(cls)\u001b[0m\n\u001b[0;32m    603\u001b[0m \u001b[38;5;250m\u001b[39m\u001b[38;5;124;03m\"\"\"Entry point for running job from the command-line.\u001b[39;00m\n\u001b[0;32m    604\u001b[0m \n\u001b[0;32m    605\u001b[0m \u001b[38;5;124;03mThis is also the entry point when a mapper or reducer is run\u001b[39;00m\n\u001b[1;32m   (...)\u001b[0m\n\u001b[0;32m    613\u001b[0m \u001b[38;5;124;03m* Run the entire job. See :py:meth:`run_job`\u001b[39;00m\n\u001b[0;32m    614\u001b[0m \u001b[38;5;124;03m\"\"\"\u001b[39;00m\n\u001b[0;32m    615\u001b[0m \u001b[38;5;66;03m# load options from the command line\u001b[39;00m\n\u001b[1;32m--> 616\u001b[0m \u001b[38;5;28mcls\u001b[39m()\u001b[38;5;241m.\u001b[39mexecute()\n",
      "File \u001b[1;32mc:\\Users\\jonat\\anaconda3\\Lib\\site-packages\\mrjob\\job.py:687\u001b[0m, in \u001b[0;36mMRJob.execute\u001b[1;34m(self)\u001b[0m\n\u001b[0;32m    684\u001b[0m     \u001b[38;5;28mself\u001b[39m\u001b[38;5;241m.\u001b[39mrun_spark(\u001b[38;5;28mself\u001b[39m\u001b[38;5;241m.\u001b[39moptions\u001b[38;5;241m.\u001b[39mstep_num)\n\u001b[0;32m    686\u001b[0m \u001b[38;5;28;01melse\u001b[39;00m:\n\u001b[1;32m--> 687\u001b[0m     \u001b[38;5;28mself\u001b[39m\u001b[38;5;241m.\u001b[39mrun_job()\n",
      "File \u001b[1;32mc:\\Users\\jonat\\anaconda3\\Lib\\site-packages\\mrjob\\job.py:634\u001b[0m, in \u001b[0;36mMRJob.run_job\u001b[1;34m(self)\u001b[0m\n\u001b[0;32m    628\u001b[0m log_stream \u001b[38;5;241m=\u001b[39m codecs\u001b[38;5;241m.\u001b[39mgetwriter(\u001b[38;5;124m'\u001b[39m\u001b[38;5;124mutf_8\u001b[39m\u001b[38;5;124m'\u001b[39m)(\u001b[38;5;28mself\u001b[39m\u001b[38;5;241m.\u001b[39mstderr)\n\u001b[0;32m    630\u001b[0m \u001b[38;5;28mself\u001b[39m\u001b[38;5;241m.\u001b[39mset_up_logging(quiet\u001b[38;5;241m=\u001b[39m\u001b[38;5;28mself\u001b[39m\u001b[38;5;241m.\u001b[39moptions\u001b[38;5;241m.\u001b[39mquiet,\n\u001b[0;32m    631\u001b[0m                     verbose\u001b[38;5;241m=\u001b[39m\u001b[38;5;28mself\u001b[39m\u001b[38;5;241m.\u001b[39moptions\u001b[38;5;241m.\u001b[39mverbose,\n\u001b[0;32m    632\u001b[0m                     stream\u001b[38;5;241m=\u001b[39mlog_stream)\n\u001b[1;32m--> 634\u001b[0m \u001b[38;5;28;01mwith\u001b[39;00m \u001b[38;5;28mself\u001b[39m\u001b[38;5;241m.\u001b[39mmake_runner() \u001b[38;5;28;01mas\u001b[39;00m runner:\n\u001b[0;32m    635\u001b[0m     \u001b[38;5;28;01mtry\u001b[39;00m:\n\u001b[0;32m    636\u001b[0m         runner\u001b[38;5;241m.\u001b[39mrun()\n",
      "File \u001b[1;32mc:\\Users\\jonat\\anaconda3\\Lib\\site-packages\\mrjob\\job.py:704\u001b[0m, in \u001b[0;36mMRJob.make_runner\u001b[1;34m(self)\u001b[0m\n\u001b[0;32m    699\u001b[0m         \u001b[38;5;28;01mraise\u001b[39;00m UsageError(\u001b[38;5;124m\"\u001b[39m\u001b[38;5;124mmake_runner() was called with \u001b[39m\u001b[38;5;132;01m%s\u001b[39;00m\u001b[38;5;124m. This\u001b[39m\u001b[38;5;124m\"\u001b[39m\n\u001b[0;32m    700\u001b[0m                          \u001b[38;5;124m\"\u001b[39m\u001b[38;5;124m probably means you tried to use it from\u001b[39m\u001b[38;5;124m\"\u001b[39m\n\u001b[0;32m    701\u001b[0m                          \u001b[38;5;124m\"\u001b[39m\u001b[38;5;124m __main__, which doesn\u001b[39m\u001b[38;5;124m'\u001b[39m\u001b[38;5;124mt work.\u001b[39m\u001b[38;5;124m\"\u001b[39m \u001b[38;5;241m%\u001b[39m w)\n\u001b[0;32m    703\u001b[0m runner_class \u001b[38;5;241m=\u001b[39m \u001b[38;5;28mself\u001b[39m\u001b[38;5;241m.\u001b[39m_runner_class()\n\u001b[1;32m--> 704\u001b[0m kwargs \u001b[38;5;241m=\u001b[39m \u001b[38;5;28mself\u001b[39m\u001b[38;5;241m.\u001b[39m_runner_kwargs()\n\u001b[0;32m    706\u001b[0m \u001b[38;5;66;03m# screen out most false-ish args so that it's readable\u001b[39;00m\n\u001b[0;32m    707\u001b[0m log\u001b[38;5;241m.\u001b[39mdebug(\u001b[38;5;124m'\u001b[39m\u001b[38;5;124mmaking runner: \u001b[39m\u001b[38;5;132;01m%s\u001b[39;00m\u001b[38;5;124m(\u001b[39m\u001b[38;5;132;01m%s\u001b[39;00m\u001b[38;5;124m, ...)\u001b[39m\u001b[38;5;124m'\u001b[39m \u001b[38;5;241m%\u001b[39m (\n\u001b[0;32m    708\u001b[0m     runner_class\u001b[38;5;241m.\u001b[39m\u001b[38;5;18m__name__\u001b[39m,\n\u001b[0;32m    709\u001b[0m     \u001b[38;5;124m'\u001b[39m\u001b[38;5;124m, \u001b[39m\u001b[38;5;124m'\u001b[39m\u001b[38;5;241m.\u001b[39mjoin(\u001b[38;5;124m'\u001b[39m\u001b[38;5;132;01m%s\u001b[39;00m\u001b[38;5;124m=\u001b[39m\u001b[38;5;132;01m%s\u001b[39;00m\u001b[38;5;124m'\u001b[39m \u001b[38;5;241m%\u001b[39m (k, v)\n\u001b[0;32m    710\u001b[0m               \u001b[38;5;28;01mfor\u001b[39;00m k, v \u001b[38;5;129;01min\u001b[39;00m \u001b[38;5;28msorted\u001b[39m(kwargs\u001b[38;5;241m.\u001b[39mitems())\n\u001b[0;32m    711\u001b[0m               \u001b[38;5;28;01mif\u001b[39;00m v \u001b[38;5;129;01mnot\u001b[39;00m \u001b[38;5;129;01min\u001b[39;00m (\u001b[38;5;28;01mNone\u001b[39;00m, [], {}))))\n",
      "File \u001b[1;32mc:\\Users\\jonat\\anaconda3\\Lib\\site-packages\\mrjob\\job.py:724\u001b[0m, in \u001b[0;36mMRJob._runner_kwargs\u001b[1;34m(self)\u001b[0m\n\u001b[0;32m    720\u001b[0m \u001b[38;5;28;01mdef\u001b[39;00m \u001b[38;5;21m_runner_kwargs\u001b[39m(\u001b[38;5;28mself\u001b[39m):\n\u001b[0;32m    721\u001b[0m \u001b[38;5;250m    \u001b[39m\u001b[38;5;124;03m\"\"\"If we're building an inline or Spark runner,\u001b[39;00m\n\u001b[0;32m    722\u001b[0m \u001b[38;5;124;03m    include mrjob_cls in kwargs.\"\"\"\u001b[39;00m\n\u001b[0;32m    723\u001b[0m     kwargs \u001b[38;5;241m=\u001b[39m combine_dicts(\n\u001b[1;32m--> 724\u001b[0m         \u001b[38;5;28mself\u001b[39m\u001b[38;5;241m.\u001b[39m_non_option_kwargs(),\n\u001b[0;32m    725\u001b[0m         \u001b[38;5;66;03m# don't screen out irrelevant opts (see #1898)\u001b[39;00m\n\u001b[0;32m    726\u001b[0m         \u001b[38;5;28mself\u001b[39m\u001b[38;5;241m.\u001b[39m_kwargs_from_switches(\u001b[38;5;28mset\u001b[39m(_RUNNER_OPTS)),\n\u001b[0;32m    727\u001b[0m         \u001b[38;5;28mself\u001b[39m\u001b[38;5;241m.\u001b[39m_job_kwargs(),\n\u001b[0;32m    728\u001b[0m     )\n\u001b[0;32m    730\u001b[0m     \u001b[38;5;28;01mif\u001b[39;00m \u001b[38;5;28mself\u001b[39m\u001b[38;5;241m.\u001b[39m_runner_class()\u001b[38;5;241m.\u001b[39malias \u001b[38;5;129;01min\u001b[39;00m (\u001b[38;5;124m'\u001b[39m\u001b[38;5;124minline\u001b[39m\u001b[38;5;124m'\u001b[39m, \u001b[38;5;124m'\u001b[39m\u001b[38;5;124mspark\u001b[39m\u001b[38;5;124m'\u001b[39m):\n\u001b[0;32m    731\u001b[0m         kwargs \u001b[38;5;241m=\u001b[39m \u001b[38;5;28mdict\u001b[39m(mrjob_cls\u001b[38;5;241m=\u001b[39m\u001b[38;5;28mself\u001b[39m\u001b[38;5;241m.\u001b[39m\u001b[38;5;18m__class__\u001b[39m, \u001b[38;5;241m*\u001b[39m\u001b[38;5;241m*\u001b[39mkwargs)\n",
      "File \u001b[1;32mc:\\Users\\jonat\\anaconda3\\Lib\\site-packages\\mrjob\\job.py:223\u001b[0m, in \u001b[0;36mMRJob._non_option_kwargs\u001b[1;34m(self)\u001b[0m\n\u001b[0;32m    212\u001b[0m             extra_args\u001b[38;5;241m.\u001b[39mextend(args)\n\u001b[0;32m    214\u001b[0m \u001b[38;5;66;03m# max_output_files is added by _add_runner_args() but can only\u001b[39;00m\n\u001b[0;32m    215\u001b[0m \u001b[38;5;66;03m# be set from the command line, so we add it here (see #2040)\u001b[39;00m\n\u001b[0;32m    216\u001b[0m \u001b[38;5;28;01mreturn\u001b[39;00m \u001b[38;5;28mdict\u001b[39m(\n\u001b[0;32m    217\u001b[0m     conf_paths\u001b[38;5;241m=\u001b[39m\u001b[38;5;28mself\u001b[39m\u001b[38;5;241m.\u001b[39moptions\u001b[38;5;241m.\u001b[39mconf_paths,\n\u001b[0;32m    218\u001b[0m     extra_args\u001b[38;5;241m=\u001b[39mextra_args,\n\u001b[0;32m    219\u001b[0m     hadoop_input_format\u001b[38;5;241m=\u001b[39m\u001b[38;5;28mself\u001b[39m\u001b[38;5;241m.\u001b[39mhadoop_input_format(),\n\u001b[0;32m    220\u001b[0m     hadoop_output_format\u001b[38;5;241m=\u001b[39m\u001b[38;5;28mself\u001b[39m\u001b[38;5;241m.\u001b[39mhadoop_output_format(),\n\u001b[0;32m    221\u001b[0m     input_paths\u001b[38;5;241m=\u001b[39m\u001b[38;5;28mself\u001b[39m\u001b[38;5;241m.\u001b[39moptions\u001b[38;5;241m.\u001b[39margs,\n\u001b[0;32m    222\u001b[0m     max_output_files\u001b[38;5;241m=\u001b[39m\u001b[38;5;28mself\u001b[39m\u001b[38;5;241m.\u001b[39moptions\u001b[38;5;241m.\u001b[39mmax_output_files,\n\u001b[1;32m--> 223\u001b[0m     mr_job_script\u001b[38;5;241m=\u001b[39m\u001b[38;5;28mself\u001b[39m\u001b[38;5;241m.\u001b[39mmr_job_script(),\n\u001b[0;32m    224\u001b[0m     output_dir\u001b[38;5;241m=\u001b[39m\u001b[38;5;28mself\u001b[39m\u001b[38;5;241m.\u001b[39moptions\u001b[38;5;241m.\u001b[39moutput_dir,\n\u001b[0;32m    225\u001b[0m     partitioner\u001b[38;5;241m=\u001b[39m\u001b[38;5;28mself\u001b[39m\u001b[38;5;241m.\u001b[39mpartitioner(),\n\u001b[0;32m    226\u001b[0m     stdin\u001b[38;5;241m=\u001b[39m\u001b[38;5;28mself\u001b[39m\u001b[38;5;241m.\u001b[39mstdin,\n\u001b[0;32m    227\u001b[0m     step_output_dir\u001b[38;5;241m=\u001b[39m\u001b[38;5;28mself\u001b[39m\u001b[38;5;241m.\u001b[39moptions\u001b[38;5;241m.\u001b[39mstep_output_dir,\n\u001b[0;32m    228\u001b[0m )\n",
      "File \u001b[1;32mc:\\Users\\jonat\\anaconda3\\Lib\\site-packages\\mrjob\\job.py:926\u001b[0m, in \u001b[0;36mMRJob.mr_job_script\u001b[1;34m(cls)\u001b[0m\n\u001b[0;32m    922\u001b[0m \u001b[38;5;250m\u001b[39m\u001b[38;5;124;03m\"\"\"Path of this script. This returns the file containing\u001b[39;00m\n\u001b[0;32m    923\u001b[0m \u001b[38;5;124;03mthis class, or ``None`` if there isn't any (e.g. it was\u001b[39;00m\n\u001b[0;32m    924\u001b[0m \u001b[38;5;124;03mdefined from the command line interface.)\"\"\"\u001b[39;00m\n\u001b[0;32m    925\u001b[0m \u001b[38;5;28;01mtry\u001b[39;00m:\n\u001b[1;32m--> 926\u001b[0m     \u001b[38;5;28;01mreturn\u001b[39;00m inspect\u001b[38;5;241m.\u001b[39mgetsourcefile(\u001b[38;5;28mcls\u001b[39m)\n\u001b[0;32m    927\u001b[0m \u001b[38;5;28;01mexcept\u001b[39;00m \u001b[38;5;167;01mTypeError\u001b[39;00m:\n\u001b[0;32m    928\u001b[0m     \u001b[38;5;28;01mreturn\u001b[39;00m \u001b[38;5;28;01mNone\u001b[39;00m\n",
      "File \u001b[1;32mc:\\Users\\jonat\\anaconda3\\Lib\\inspect.py:949\u001b[0m, in \u001b[0;36mgetsourcefile\u001b[1;34m(object)\u001b[0m\n\u001b[0;32m    945\u001b[0m \u001b[38;5;28;01mdef\u001b[39;00m \u001b[38;5;21mgetsourcefile\u001b[39m(\u001b[38;5;28mobject\u001b[39m):\n\u001b[0;32m    946\u001b[0m \u001b[38;5;250m    \u001b[39m\u001b[38;5;124;03m\"\"\"Return the filename that can be used to locate an object's source.\u001b[39;00m\n\u001b[0;32m    947\u001b[0m \u001b[38;5;124;03m    Return None if no way can be identified to get the source.\u001b[39;00m\n\u001b[0;32m    948\u001b[0m \u001b[38;5;124;03m    \"\"\"\u001b[39;00m\n\u001b[1;32m--> 949\u001b[0m     filename \u001b[38;5;241m=\u001b[39m getfile(\u001b[38;5;28mobject\u001b[39m)\n\u001b[0;32m    950\u001b[0m     all_bytecode_suffixes \u001b[38;5;241m=\u001b[39m importlib\u001b[38;5;241m.\u001b[39mmachinery\u001b[38;5;241m.\u001b[39mDEBUG_BYTECODE_SUFFIXES[:]\n\u001b[0;32m    951\u001b[0m     all_bytecode_suffixes \u001b[38;5;241m+\u001b[39m\u001b[38;5;241m=\u001b[39m importlib\u001b[38;5;241m.\u001b[39mmachinery\u001b[38;5;241m.\u001b[39mOPTIMIZED_BYTECODE_SUFFIXES[:]\n",
      "File \u001b[1;32mc:\\Users\\jonat\\anaconda3\\Lib\\inspect.py:917\u001b[0m, in \u001b[0;36mgetfile\u001b[1;34m(object)\u001b[0m\n\u001b[0;32m    915\u001b[0m             \u001b[38;5;28;01mreturn\u001b[39;00m module\u001b[38;5;241m.\u001b[39m\u001b[38;5;18m__file__\u001b[39m\n\u001b[0;32m    916\u001b[0m         \u001b[38;5;28;01mif\u001b[39;00m \u001b[38;5;28mobject\u001b[39m\u001b[38;5;241m.\u001b[39m\u001b[38;5;18m__module__\u001b[39m \u001b[38;5;241m==\u001b[39m \u001b[38;5;124m'\u001b[39m\u001b[38;5;124m__main__\u001b[39m\u001b[38;5;124m'\u001b[39m:\n\u001b[1;32m--> 917\u001b[0m             \u001b[38;5;28;01mraise\u001b[39;00m \u001b[38;5;167;01mOSError\u001b[39;00m(\u001b[38;5;124m'\u001b[39m\u001b[38;5;124msource code not available\u001b[39m\u001b[38;5;124m'\u001b[39m)\n\u001b[0;32m    918\u001b[0m     \u001b[38;5;28;01mraise\u001b[39;00m \u001b[38;5;167;01mTypeError\u001b[39;00m(\u001b[38;5;124m'\u001b[39m\u001b[38;5;132;01m{!r}\u001b[39;00m\u001b[38;5;124m is a built-in class\u001b[39m\u001b[38;5;124m'\u001b[39m\u001b[38;5;241m.\u001b[39mformat(\u001b[38;5;28mobject\u001b[39m))\n\u001b[0;32m    919\u001b[0m \u001b[38;5;28;01mif\u001b[39;00m ismethod(\u001b[38;5;28mobject\u001b[39m):\n",
      "\u001b[1;31mOSError\u001b[0m: source code not available"
     ]
    }
   ],
   "source": []
  },
  {
   "cell_type": "code",
   "execution_count": null,
   "id": "e6c057f9",
   "metadata": {},
   "outputs": [],
   "source": []
  }
 ],
 "metadata": {
  "kernelspec": {
   "display_name": "base",
   "language": "python",
   "name": "python3"
  },
  "language_info": {
   "codemirror_mode": {
    "name": "ipython",
    "version": 3
   },
   "file_extension": ".py",
   "mimetype": "text/x-python",
   "name": "python",
   "nbconvert_exporter": "python",
   "pygments_lexer": "ipython3",
   "version": "3.12.4"
  }
 },
 "nbformat": 4,
 "nbformat_minor": 5
}
