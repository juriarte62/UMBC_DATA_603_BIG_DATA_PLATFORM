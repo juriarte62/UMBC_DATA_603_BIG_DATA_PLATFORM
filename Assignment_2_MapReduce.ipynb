{
 "cells": [
  {
   "cell_type": "markdown",
   "id": "852e431a",
   "metadata": {},
   "source": [
    "# This is just a tutorial to use map reduce using the mrjob package\n",
    "Follow the tutorial and link here [WEB LINK](https://mrjob.readthedocs.io/en/latest/guides/quickstart.html)"
   ]
  },
  {
   "cell_type": "code",
   "execution_count": 1,
   "id": "bd896537",
   "metadata": {},
   "outputs": [],
   "source": [
    "from mrjob.job import MRJob"
   ]
  },
  {
   "cell_type": "code",
   "execution_count": 3,
   "id": "22d8b3b7",
   "metadata": {},
   "outputs": [],
   "source": [
    "# tutorial area"
   ]
  },
  {
   "cell_type": "code",
   "execution_count": 4,
   "id": "5a9abb3d",
   "metadata": {},
   "outputs": [
    {
     "data": {
      "text/plain": [
       "<map at 0x243e127f760>"
      ]
     },
     "execution_count": 4,
     "metadata": {},
     "output_type": "execute_result"
    }
   ],
   "source": [
    "def f(x):\n",
    "    return x * x\n",
    "\n",
    "rdd = [2, 6, -3, 7]\n",
    "res = map(f, rdd )\n",
    "res  # Res is an iterator"
   ]
  },
  {
   "cell_type": "code",
   "execution_count": 5,
   "id": "e6c057f9",
   "metadata": {},
   "outputs": [
    {
     "name": "stdout",
     "output_type": "stream",
     "text": [
      "4 36 9 49\n"
     ]
    }
   ],
   "source": [
    "print(*res)"
   ]
  },
  {
   "cell_type": "code",
   "execution_count": null,
   "id": "1a09cbff",
   "metadata": {},
   "outputs": [],
   "source": []
  }
 ],
 "metadata": {
  "kernelspec": {
   "display_name": "base",
   "language": "python",
   "name": "python3"
  },
  "language_info": {
   "codemirror_mode": {
    "name": "ipython",
    "version": 3
   },
   "file_extension": ".py",
   "mimetype": "text/x-python",
   "name": "python",
   "nbconvert_exporter": "python",
   "pygments_lexer": "ipython3",
   "version": "3.12.4"
  }
 },
 "nbformat": 4,
 "nbformat_minor": 5
}
