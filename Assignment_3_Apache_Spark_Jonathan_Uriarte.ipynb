{
  "cells": [
    {
      "cell_type": "code",
      "execution_count": null,
      "metadata": {
        "colab": {
          "base_uri": "https://localhost:8080/"
        },
        "id": "Vlai0xwjnDMj",
        "outputId": "5a9bc521-d423-4103-9023-7e8293fb8ffe"
      },
      "outputs": [
        {
          "name": "stdout",
          "output_type": "stream",
          "text": [
            "Requirement already satisfied: pyspark in /usr/local/lib/python3.12/dist-packages (3.5.1)\n",
            "Requirement already satisfied: py4j==0.10.9.7 in /usr/local/lib/python3.12/dist-packages (from pyspark) (0.10.9.7)\n"
          ]
        }
      ],
      "source": [
        "# install pyspark\n",
        "# !pip install pyspark"
      ]
    },
    {
      "cell_type": "code",
      "execution_count": 66,
      "metadata": {
        "id": "ixP7Z6EunFF_"
      },
      "outputs": [],
      "source": [
        "###### set up libraries ######\n",
        "# set up spark session\n",
        "from pyspark.sql import SparkSession\n",
        "# set up spark schema\n",
        "from pyspark.sql.types import StructType, StructField, StringType, IntegerType, BooleanType, TimestampType, DateType, FloatType, DoubleType, ArrayType\n",
        "# this is to convert the string to datetime\n",
        "from pyspark.sql import functions as F\n",
        "# set up date filtering step\n",
        "from pyspark.sql.functions import current_date, date_sub, col, to_date\n",
        "\n",
        "# these are for the APIs\n",
        "import requests\n",
        "import json\n",
        "import pandas as pd"
      ]
    },
    {
      "cell_type": "markdown",
      "metadata": {
        "id": "qNCO3kNVoVEC"
      },
      "source": [
        "# Step 1: Create Spark Session"
      ]
    },
    {
      "cell_type": "code",
      "execution_count": null,
      "metadata": {
        "id": "VAkewNBlo_AX"
      },
      "outputs": [],
      "source": [
        "# create session\n",
        "spark = SparkSession.builder.appName(\"Chicago\").getOrCreate()\n",
        "# https://data.cityofchicago.org/Public-Safety/Crimes-2001-to-Present/ijzp-q8t2/about_data"
      ]
    },
    {
      "cell_type": "markdown",
      "metadata": {
        "id": "7tyt9hrKobwq"
      },
      "source": [
        "# Step 2: Define the Schema for loading the Chicago crime dataset"
      ]
    },
    {
      "cell_type": "code",
      "execution_count": null,
      "metadata": {
        "id": "g517qQp9qTaI"
      },
      "outputs": [],
      "source": [
        "### OLD BUT I WANT TO KEEP THIS -JU\n",
        "\n",
        "# create schema\n",
        "# manually setting up the spark schema for the chicago database\n",
        "# https://data.cityofchicago.org/Public-Safety/Crimes-2001-to-Present/ijzp-q8t2/about_data\n",
        "# schema = StructType([\n",
        "#     StructField(\"id\", IntegerType(), True),\n",
        "#     StructField(\"case_number\", StringType(), True),\n",
        "#     StructField(\"date\", TimestampType(), True),\n",
        "#     StructField(\"block\", StringType(), True),\n",
        "#     StructField(\"iucr\", StringType(), True),\n",
        "#     StructField(\"primary_type\", StringType(), True),\n",
        "#     StructField(\"description\", StringType(), True),\n",
        "#     StructField(\"location_description\", StringType(), True),\n",
        "#     StructField(\"arrest\", BooleanType(), True),\n",
        "#     StructField(\"domestic\", BooleanType(), True),\n",
        "#     StructField(\"beat\", StringType(), True),\n",
        "#     StructField(\"district\", StringType(), True),\n",
        "#     StructField(\"ward\", IntegerType(), True),\n",
        "#     StructField(\"community_area\", StringType(), True),\n",
        "#     StructField(\"fbi_code\", StringType(), True),\n",
        "#     StructField(\"x_coordinate\", FloatType(), True),\n",
        "#     StructField(\"y_coordinate\", FloatType(), True),\n",
        "#     StructField(\"year\", IntegerType(), True),\n",
        "#     StructField(\"updated_on\", TimestampType(), True),\n",
        "#     StructField(\"latitude\", DoubleType(), True),\n",
        "#     StructField(\"longitude\", DoubleType(), True),\n",
        "#     StructField(\"updated_on\", TimestampType(), True),\n",
        "#     StructField(\"location\", StringType(), True)\n",
        "# ])\n"
      ]
    },
    {
      "cell_type": "code",
      "execution_count": null,
      "metadata": {
        "id": "wceFsCkey5HF"
      },
      "outputs": [],
      "source": [
        "# NEW SCHEMA\n",
        "## I had to change the types so that it works with what the API gives me\n",
        "## The\n",
        "schema = StructType([\n",
        "    StructField(\"arrest\", BooleanType(), True),\n",
        "    StructField(\"beat\", StringType(), True),\n",
        "    StructField(\"block\", StringType(), True),\n",
        "    StructField(\"case_number\", StringType(), True),\n",
        "    StructField(\"community_area\", StringType(), True),\n",
        "    StructField(\"date\", StringType(), True),\n",
        "    StructField(\"description\", StringType(), True),\n",
        "    StructField(\"district\", StringType(), True),\n",
        "    StructField(\"domestic\", BooleanType(), True),\n",
        "    StructField(\"fbi_code\", StringType(), True),\n",
        "    StructField(\"id\", StringType(), True),\n",
        "    StructField(\"iucr\", StringType(), True),\n",
        "    StructField(\"location_description\", StringType(), True),\n",
        "    StructField(\"primary_type\", StringType(), True),\n",
        "    StructField(\"updated_on\", StringType(), True),\n",
        "    StructField(\"ward\", StringType(), True),\n",
        "    StructField(\"year\", StringType(), True)\n",
        "])"
      ]
    },
    {
      "cell_type": "markdown",
      "metadata": {
        "id": "Lv1YMGNsohZ4"
      },
      "source": [
        "# Step 3: Load the chicago crime data (you should have more than a million rows)"
      ]
    },
    {
      "cell_type": "code",
      "execution_count": null,
      "metadata": {
        "id": "nuAeLv2xomzh"
      },
      "outputs": [],
      "source": [
        "# this is SODA3 -- doesn't work, even when I create the API token\n",
        "# api_url = 'https://data.cityofchicago.org/api/v3/views/ijzp-q8t2/query.json'\n",
        "# api_url = 'https://data.cityofchicago.org/api/v3/views/crimes/query.json'\n",
        "\n",
        "# this is SODA2\n",
        "api_url = 'https://data.cityofchicago.org/resource/ijzp-q8t2.json'\n",
        "\n",
        "# this is where we use the GET command request\n",
        "response = requests.get(api_url)\n",
        "\n",
        "#### IDK why it's there, but the documentation says it's to check for successful reponse\n",
        "if response.status_code == 200:\n",
        "  api_data = response.json()\n",
        "else:\n",
        "  print(f\"Error fetching data from API: {response.status_code}\")\n",
        "  api_data = []\n"
      ]
    },
    {
      "cell_type": "code",
      "execution_count": null,
      "metadata": {
        "colab": {
          "base_uri": "https://localhost:8080/"
        },
        "id": "o2xwWNJapusi",
        "outputId": "f04cab67-c14e-42c6-c04a-82237362fa64"
      },
      "outputs": [
        {
          "name": "stdout",
          "output_type": "stream",
          "text": [
            "root\n",
            " |-- arrest: boolean (nullable = true)\n",
            " |-- beat: string (nullable = true)\n",
            " |-- block: string (nullable = true)\n",
            " |-- case_number: string (nullable = true)\n",
            " |-- community_area: string (nullable = true)\n",
            " |-- date: string (nullable = true)\n",
            " |-- description: string (nullable = true)\n",
            " |-- district: string (nullable = true)\n",
            " |-- domestic: boolean (nullable = true)\n",
            " |-- fbi_code: string (nullable = true)\n",
            " |-- id: string (nullable = true)\n",
            " |-- iucr: string (nullable = true)\n",
            " |-- location_description: string (nullable = true)\n",
            " |-- primary_type: string (nullable = true)\n",
            " |-- updated_on: string (nullable = true)\n",
            " |-- ward: string (nullable = true)\n",
            " |-- year: string (nullable = true)\n",
            "\n",
            "+------+----+--------------------+-----------+--------------+--------------------+--------------------+--------+--------+--------+--------+----+--------------------+--------------------+--------------------+----+----+\n",
            "|arrest|beat|               block|case_number|community_area|                date|         description|district|domestic|fbi_code|      id|iucr|location_description|        primary_type|          updated_on|ward|year|\n",
            "+------+----+--------------------+-----------+--------------+--------------------+--------------------+--------+--------+--------+--------+----+--------------------+--------------------+--------------------+----+----+\n",
            "| false|0613|     011XX W 87TH ST|   JJ451188|            71|2025-10-10T00:00:...|              SIMPLE|     006|    true|     08A|13997562|0560|           APARTMENT|             ASSAULT|2025-10-17T15:42:...|  17|2025|\n",
            "| false|0434|   108XX S HOXIE AVE|   JJ450186|            51|2025-10-10T00:00:...|VIOLATE ORDER OF ...|     004|    true|      26|13997522|4387|           RESIDENCE|       OTHER OFFENSE|2025-10-17T15:42:...|  10|2025|\n",
            "| false|1611|   060XX W MIAMI AVE|   JJ447598|            10|2025-10-10T00:00:...|       FROM BUILDING|     016|   false|      06|13994910|0890|               ALLEY|               THEFT|2025-10-17T15:42:...|  39|2025|\n",
            "| false|0633|     002XX E 89TH PL|   JJ446369|            44|2025-10-10T00:00:...|          AUTOMOBILE|     006|   false|      07|13993344|0910|              STREET| MOTOR VEHICLE THEFT|2025-10-17T15:42:...|   6|2025|\n",
            "| false|0211|     0000X E 35TH ST|   JJ447154|            35|2025-10-10T00:00:...|      $500 AND UNDER|     002|   false|      06|13993922|0820|              STREET|               THEFT|2025-10-17T15:42:...|   3|2025|\n",
            "| false|0915|031XX S WENTWORTH...|   JJ447659|            34|2025-10-10T00:00:...|      $500 AND UNDER|     009|   false|      06|13994355|0820|NURSING / RETIREM...|               THEFT|2025-10-17T15:42:...|  11|2025|\n",
            "| false|0823|     035XX W 63RD PL|   JJ448816|            66|2025-10-10T00:00:...|THEFT FROM MOTOR ...|     008|   false|      06|13995383|0710|              STREET|               THEFT|2025-10-17T15:42:...|  14|2025|\n",
            "| false|0214|     006XX E 41ST ST|   JJ447624|            38|2025-10-10T00:00:...|   CREDIT CARD FRAUD|     002|   false|      11|13994333|1150|           RESIDENCE|  DECEPTIVE PRACTICE|2025-10-17T15:42:...|   4|2025|\n",
            "| false|0123| 006XX S LA SALLE ST|   JJ452443|            32|2025-10-10T00:00:...|THEFT FROM MOTOR ...|     001|   false|      06|13998445|0710|PARKING LOT / GAR...|               THEFT|2025-10-17T15:42:...|  34|2025|\n",
            "| false|1623| 048XX N CENTRAL AVE|   JJ446394|            11|2025-10-10T00:00:...|      NON-AGGRAVATED|     016|   false|      02|13993384|0281|           APARTMENT|CRIMINAL SEXUAL A...|2025-10-17T15:42:...|  45|2025|\n",
            "| false|0412|     022XX E 84TH ST|   JJ446429|            46|2025-10-10T00:00:...|      $500 AND UNDER|     004|    true|      06|13995046|0820|           APARTMENT|               THEFT|2025-10-17T15:42:...|   8|2025|\n",
            "| false|0331|   070XX S CLYDE AVE|   JJ448872|            43|2025-10-10T00:00:...|      $500 AND UNDER|     003|   false|      06|13995368|0820|              STREET|               THEFT|2025-10-17T15:42:...|   5|2025|\n",
            "| false|0823|     028XX W 63RD ST|   JJ446728|            66|2025-10-10T00:00:...|         TO PROPERTY|     008|   false|      14|13993673|1310|  GROCERY FOOD STORE|     CRIMINAL DAMAGE|2025-10-17T15:42:...|  15|2025|\n",
            "| false|0935|     007XX W 50TH ST|   JJ447693|            61|2025-10-09T23:40:...|HARASSMENT BY TEL...|     009|    true|      26|13994370|2825|VEHICLE NON-COMME...|       OTHER OFFENSE|2025-10-17T15:42:...|  20|2025|\n",
            "| false|2032|   049XX N DAMEN AVE|   JJ446500|             4|2025-10-09T23:30:...|          TO VEHICLE|     020|   false|      14|13993447|1320|              STREET|     CRIMINAL DAMAGE|2025-10-17T15:42:...|  40|2025|\n",
            "| false|1533|  051XX W MADISON ST|   JJ446301|            25|2025-10-09T23:30:...|              SIMPLE|     015|   false|     08A|13993360|0560|         GAS STATION|             ASSAULT|2025-10-17T15:42:...|  28|2025|\n",
            "|  true|0921|     029XX W 40TH PL|   JJ446318|            58|2025-10-09T23:30:...|AGGRAVATED - KNIF...|     009|    true|     04A|13993279|0520|           APARTMENT|             ASSAULT|2025-10-17T15:42:...|  12|2025|\n",
            "|  true|1811|016XX W FULLERTON...|   JJ446304|             7|2025-10-09T23:23:...|GUN OFFENDER - AN...|     018|   false|      26|13993250|5111|         GAS STATION|       OTHER OFFENSE|2025-10-17T15:42:...|  32|2025|\n",
            "| false|1912|042XX N RAVENSWOO...|   JJ446513|             5|2025-10-09T23:15:...|          TO VEHICLE|     019|   false|      14|13993476|1320|              STREET|     CRIMINAL DAMAGE|2025-10-17T15:42:...|  47|2025|\n",
            "| false|1133| 038XX W FLOURNOY ST|   JJ446279|            26|2025-10-09T23:11:...|         TO PROPERTY|     011|    true|      14|13993280|1310|RESIDENCE - PORCH...|     CRIMINAL DAMAGE|2025-10-17T15:42:...|  24|2025|\n",
            "+------+----+--------------------+-----------+--------------+--------------------+--------------------+--------+--------+--------+--------+----+--------------------+--------------------+--------------------+----+----+\n",
            "only showing top 20 rows\n",
            "\n"
          ]
        }
      ],
      "source": [
        "if api_data:\n",
        "  df = spark.createDataFrame(api_data, schema=schema)\n",
        "  df.printSchema()\n",
        "  df.show()\n",
        "else:\n",
        "  print(\"No data to create DataFrame.\")"
      ]
    },
    {
      "cell_type": "markdown",
      "metadata": {
        "id": "T38HQKTMpZ3B"
      },
      "source": [
        "# Step 4: Clean the data\n",
        "a. remove all null values\n",
        "b. change 'Date' column data type"
      ]
    },
    {
      "cell_type": "markdown",
      "metadata": {
        "id": "1AH6FQ8-pdkI"
      },
      "source": []
    },
    {
      "cell_type": "code",
      "execution_count": null,
      "metadata": {
        "id": "rsfq2RrP1oi3"
      },
      "outputs": [],
      "source": [
        "# removes all rows with null/NaN/NA values\n",
        "df_cleaned = df.dropna()"
      ]
    },
    {
      "cell_type": "code",
      "execution_count": null,
      "metadata": {
        "colab": {
          "base_uri": "https://localhost:8080/"
        },
        "id": "46HX_20U17d6",
        "outputId": "af61fbad-7343-4973-b0fc-6b208d75c6bb"
      },
      "outputs": [
        {
          "name": "stdout",
          "output_type": "stream",
          "text": [
            "+------+----+--------------------+-----------+--------------+--------------------+--------------------+--------+--------+--------+--------+----+--------------------+--------------------+--------------------+----+----+\n",
            "|arrest|beat|               block|case_number|community_area|                date|         description|district|domestic|fbi_code|      id|iucr|location_description|        primary_type|          updated_on|ward|year|\n",
            "+------+----+--------------------+-----------+--------------+--------------------+--------------------+--------+--------+--------+--------+----+--------------------+--------------------+--------------------+----+----+\n",
            "| false|0613|     011XX W 87TH ST|   JJ451188|            71|2025-10-10T00:00:...|              SIMPLE|     006|    true|     08A|13997562|0560|           APARTMENT|             ASSAULT|2025-10-17T15:42:...|  17|2025|\n",
            "| false|0434|   108XX S HOXIE AVE|   JJ450186|            51|2025-10-10T00:00:...|VIOLATE ORDER OF ...|     004|    true|      26|13997522|4387|           RESIDENCE|       OTHER OFFENSE|2025-10-17T15:42:...|  10|2025|\n",
            "| false|1611|   060XX W MIAMI AVE|   JJ447598|            10|2025-10-10T00:00:...|       FROM BUILDING|     016|   false|      06|13994910|0890|               ALLEY|               THEFT|2025-10-17T15:42:...|  39|2025|\n",
            "| false|0633|     002XX E 89TH PL|   JJ446369|            44|2025-10-10T00:00:...|          AUTOMOBILE|     006|   false|      07|13993344|0910|              STREET| MOTOR VEHICLE THEFT|2025-10-17T15:42:...|   6|2025|\n",
            "| false|0211|     0000X E 35TH ST|   JJ447154|            35|2025-10-10T00:00:...|      $500 AND UNDER|     002|   false|      06|13993922|0820|              STREET|               THEFT|2025-10-17T15:42:...|   3|2025|\n",
            "| false|0915|031XX S WENTWORTH...|   JJ447659|            34|2025-10-10T00:00:...|      $500 AND UNDER|     009|   false|      06|13994355|0820|NURSING / RETIREM...|               THEFT|2025-10-17T15:42:...|  11|2025|\n",
            "| false|0823|     035XX W 63RD PL|   JJ448816|            66|2025-10-10T00:00:...|THEFT FROM MOTOR ...|     008|   false|      06|13995383|0710|              STREET|               THEFT|2025-10-17T15:42:...|  14|2025|\n",
            "| false|0214|     006XX E 41ST ST|   JJ447624|            38|2025-10-10T00:00:...|   CREDIT CARD FRAUD|     002|   false|      11|13994333|1150|           RESIDENCE|  DECEPTIVE PRACTICE|2025-10-17T15:42:...|   4|2025|\n",
            "| false|0123| 006XX S LA SALLE ST|   JJ452443|            32|2025-10-10T00:00:...|THEFT FROM MOTOR ...|     001|   false|      06|13998445|0710|PARKING LOT / GAR...|               THEFT|2025-10-17T15:42:...|  34|2025|\n",
            "| false|1623| 048XX N CENTRAL AVE|   JJ446394|            11|2025-10-10T00:00:...|      NON-AGGRAVATED|     016|   false|      02|13993384|0281|           APARTMENT|CRIMINAL SEXUAL A...|2025-10-17T15:42:...|  45|2025|\n",
            "| false|0412|     022XX E 84TH ST|   JJ446429|            46|2025-10-10T00:00:...|      $500 AND UNDER|     004|    true|      06|13995046|0820|           APARTMENT|               THEFT|2025-10-17T15:42:...|   8|2025|\n",
            "| false|0331|   070XX S CLYDE AVE|   JJ448872|            43|2025-10-10T00:00:...|      $500 AND UNDER|     003|   false|      06|13995368|0820|              STREET|               THEFT|2025-10-17T15:42:...|   5|2025|\n",
            "| false|0823|     028XX W 63RD ST|   JJ446728|            66|2025-10-10T00:00:...|         TO PROPERTY|     008|   false|      14|13993673|1310|  GROCERY FOOD STORE|     CRIMINAL DAMAGE|2025-10-17T15:42:...|  15|2025|\n",
            "| false|0935|     007XX W 50TH ST|   JJ447693|            61|2025-10-09T23:40:...|HARASSMENT BY TEL...|     009|    true|      26|13994370|2825|VEHICLE NON-COMME...|       OTHER OFFENSE|2025-10-17T15:42:...|  20|2025|\n",
            "| false|2032|   049XX N DAMEN AVE|   JJ446500|             4|2025-10-09T23:30:...|          TO VEHICLE|     020|   false|      14|13993447|1320|              STREET|     CRIMINAL DAMAGE|2025-10-17T15:42:...|  40|2025|\n",
            "| false|1533|  051XX W MADISON ST|   JJ446301|            25|2025-10-09T23:30:...|              SIMPLE|     015|   false|     08A|13993360|0560|         GAS STATION|             ASSAULT|2025-10-17T15:42:...|  28|2025|\n",
            "|  true|0921|     029XX W 40TH PL|   JJ446318|            58|2025-10-09T23:30:...|AGGRAVATED - KNIF...|     009|    true|     04A|13993279|0520|           APARTMENT|             ASSAULT|2025-10-17T15:42:...|  12|2025|\n",
            "|  true|1811|016XX W FULLERTON...|   JJ446304|             7|2025-10-09T23:23:...|GUN OFFENDER - AN...|     018|   false|      26|13993250|5111|         GAS STATION|       OTHER OFFENSE|2025-10-17T15:42:...|  32|2025|\n",
            "| false|1912|042XX N RAVENSWOO...|   JJ446513|             5|2025-10-09T23:15:...|          TO VEHICLE|     019|   false|      14|13993476|1320|              STREET|     CRIMINAL DAMAGE|2025-10-17T15:42:...|  47|2025|\n",
            "| false|1133| 038XX W FLOURNOY ST|   JJ446279|            26|2025-10-09T23:11:...|         TO PROPERTY|     011|    true|      14|13993280|1310|RESIDENCE - PORCH...|     CRIMINAL DAMAGE|2025-10-17T15:42:...|  24|2025|\n",
            "+------+----+--------------------+-----------+--------------+--------------------+--------------------+--------+--------+--------+--------+----+--------------------+--------------------+--------------------+----+----+\n",
            "only showing top 20 rows\n",
            "\n"
          ]
        }
      ],
      "source": [
        "df_cleaned.show()"
      ]
    },
    {
      "cell_type": "code",
      "execution_count": null,
      "metadata": {
        "id": "-bCvIG8xmiRa"
      },
      "outputs": [],
      "source": [
        "# this is conver the string 'date' column to a datetime 'date' column datatype\n",
        "# df_cleaned = df_cleaned.withColumn(\"date\", F.to_date(F.col(\"date\"), \"yyyy-MM-dd)) ### needed to add in the time as well\n",
        "df_cleaned = df_cleaned.withColumn(\"date\", F.to_date(F.col(\"date\"), \"yyyy-MM-dd'T'HH:mm:ss.SSS\"))"
      ]
    },
    {
      "cell_type": "code",
      "execution_count": null,
      "metadata": {
        "colab": {
          "base_uri": "https://localhost:8080/"
        },
        "id": "9bySvXinmnln",
        "outputId": "9684b590-cb4d-4958-afa9-72afc390dc13"
      },
      "outputs": [
        {
          "name": "stdout",
          "output_type": "stream",
          "text": [
            "+------+----+--------------------+-----------+--------------+----------+--------------------+--------+--------+--------+--------+----+--------------------+--------------------+--------------------+----+----+\n",
            "|arrest|beat|               block|case_number|community_area|      date|         description|district|domestic|fbi_code|      id|iucr|location_description|        primary_type|          updated_on|ward|year|\n",
            "+------+----+--------------------+-----------+--------------+----------+--------------------+--------+--------+--------+--------+----+--------------------+--------------------+--------------------+----+----+\n",
            "| false|0613|     011XX W 87TH ST|   JJ451188|            71|2025-10-10|              SIMPLE|     006|    true|     08A|13997562|0560|           APARTMENT|             ASSAULT|2025-10-17T15:42:...|  17|2025|\n",
            "| false|0434|   108XX S HOXIE AVE|   JJ450186|            51|2025-10-10|VIOLATE ORDER OF ...|     004|    true|      26|13997522|4387|           RESIDENCE|       OTHER OFFENSE|2025-10-17T15:42:...|  10|2025|\n",
            "| false|1611|   060XX W MIAMI AVE|   JJ447598|            10|2025-10-10|       FROM BUILDING|     016|   false|      06|13994910|0890|               ALLEY|               THEFT|2025-10-17T15:42:...|  39|2025|\n",
            "| false|0633|     002XX E 89TH PL|   JJ446369|            44|2025-10-10|          AUTOMOBILE|     006|   false|      07|13993344|0910|              STREET| MOTOR VEHICLE THEFT|2025-10-17T15:42:...|   6|2025|\n",
            "| false|0211|     0000X E 35TH ST|   JJ447154|            35|2025-10-10|      $500 AND UNDER|     002|   false|      06|13993922|0820|              STREET|               THEFT|2025-10-17T15:42:...|   3|2025|\n",
            "| false|0915|031XX S WENTWORTH...|   JJ447659|            34|2025-10-10|      $500 AND UNDER|     009|   false|      06|13994355|0820|NURSING / RETIREM...|               THEFT|2025-10-17T15:42:...|  11|2025|\n",
            "| false|0823|     035XX W 63RD PL|   JJ448816|            66|2025-10-10|THEFT FROM MOTOR ...|     008|   false|      06|13995383|0710|              STREET|               THEFT|2025-10-17T15:42:...|  14|2025|\n",
            "| false|0214|     006XX E 41ST ST|   JJ447624|            38|2025-10-10|   CREDIT CARD FRAUD|     002|   false|      11|13994333|1150|           RESIDENCE|  DECEPTIVE PRACTICE|2025-10-17T15:42:...|   4|2025|\n",
            "| false|0123| 006XX S LA SALLE ST|   JJ452443|            32|2025-10-10|THEFT FROM MOTOR ...|     001|   false|      06|13998445|0710|PARKING LOT / GAR...|               THEFT|2025-10-17T15:42:...|  34|2025|\n",
            "| false|1623| 048XX N CENTRAL AVE|   JJ446394|            11|2025-10-10|      NON-AGGRAVATED|     016|   false|      02|13993384|0281|           APARTMENT|CRIMINAL SEXUAL A...|2025-10-17T15:42:...|  45|2025|\n",
            "| false|0412|     022XX E 84TH ST|   JJ446429|            46|2025-10-10|      $500 AND UNDER|     004|    true|      06|13995046|0820|           APARTMENT|               THEFT|2025-10-17T15:42:...|   8|2025|\n",
            "| false|0331|   070XX S CLYDE AVE|   JJ448872|            43|2025-10-10|      $500 AND UNDER|     003|   false|      06|13995368|0820|              STREET|               THEFT|2025-10-17T15:42:...|   5|2025|\n",
            "| false|0823|     028XX W 63RD ST|   JJ446728|            66|2025-10-10|         TO PROPERTY|     008|   false|      14|13993673|1310|  GROCERY FOOD STORE|     CRIMINAL DAMAGE|2025-10-17T15:42:...|  15|2025|\n",
            "| false|0935|     007XX W 50TH ST|   JJ447693|            61|2025-10-09|HARASSMENT BY TEL...|     009|    true|      26|13994370|2825|VEHICLE NON-COMME...|       OTHER OFFENSE|2025-10-17T15:42:...|  20|2025|\n",
            "| false|2032|   049XX N DAMEN AVE|   JJ446500|             4|2025-10-09|          TO VEHICLE|     020|   false|      14|13993447|1320|              STREET|     CRIMINAL DAMAGE|2025-10-17T15:42:...|  40|2025|\n",
            "| false|1533|  051XX W MADISON ST|   JJ446301|            25|2025-10-09|              SIMPLE|     015|   false|     08A|13993360|0560|         GAS STATION|             ASSAULT|2025-10-17T15:42:...|  28|2025|\n",
            "|  true|0921|     029XX W 40TH PL|   JJ446318|            58|2025-10-09|AGGRAVATED - KNIF...|     009|    true|     04A|13993279|0520|           APARTMENT|             ASSAULT|2025-10-17T15:42:...|  12|2025|\n",
            "|  true|1811|016XX W FULLERTON...|   JJ446304|             7|2025-10-09|GUN OFFENDER - AN...|     018|   false|      26|13993250|5111|         GAS STATION|       OTHER OFFENSE|2025-10-17T15:42:...|  32|2025|\n",
            "| false|1912|042XX N RAVENSWOO...|   JJ446513|             5|2025-10-09|          TO VEHICLE|     019|   false|      14|13993476|1320|              STREET|     CRIMINAL DAMAGE|2025-10-17T15:42:...|  47|2025|\n",
            "| false|1133| 038XX W FLOURNOY ST|   JJ446279|            26|2025-10-09|         TO PROPERTY|     011|    true|      14|13993280|1310|RESIDENCE - PORCH...|     CRIMINAL DAMAGE|2025-10-17T15:42:...|  24|2025|\n",
            "+------+----+--------------------+-----------+--------------+----------+--------------------+--------+--------+--------+--------+----+--------------------+--------------------+--------------------+----+----+\n",
            "only showing top 20 rows\n",
            "\n"
          ]
        }
      ],
      "source": [
        "df_cleaned.show()"
      ]
    },
    {
      "cell_type": "code",
      "execution_count": 65,
      "metadata": {
        "colab": {
          "base_uri": "https://localhost:8080/"
        },
        "id": "uYE5XbHtp0VJ",
        "outputId": "e3e6d79c-8a4c-4a86-d68d-09624920a3b9"
      },
      "outputs": [
        {
          "name": "stdout",
          "output_type": "stream",
          "text": [
            "root\n",
            " |-- arrest: boolean (nullable = true)\n",
            " |-- beat: string (nullable = true)\n",
            " |-- block: string (nullable = true)\n",
            " |-- case_number: string (nullable = true)\n",
            " |-- community_area: string (nullable = true)\n",
            " |-- date: date (nullable = true)\n",
            " |-- description: string (nullable = true)\n",
            " |-- district: string (nullable = true)\n",
            " |-- domestic: boolean (nullable = true)\n",
            " |-- fbi_code: string (nullable = true)\n",
            " |-- id: string (nullable = true)\n",
            " |-- iucr: string (nullable = true)\n",
            " |-- location_description: string (nullable = true)\n",
            " |-- primary_type: string (nullable = true)\n",
            " |-- updated_on: string (nullable = true)\n",
            " |-- ward: string (nullable = true)\n",
            " |-- year: string (nullable = true)\n",
            "\n"
          ]
        }
      ],
      "source": [
        "df_cleaned.printSchema() # this verifies that date column was converted successfully"
      ]
    },
    {
      "cell_type": "markdown",
      "metadata": {
        "id": "PaNQxFV8pr1S"
      },
      "source": [
        "# Step 5: Filter the data for last ten years"
      ]
    },
    {
      "cell_type": "code",
      "execution_count": 67,
      "metadata": {
        "colab": {
          "base_uri": "https://localhost:8080/"
        },
        "id": "dl5R_3PRoEsJ",
        "outputId": "c270b64d-375a-4dbe-ce57-c529fca4576c"
      },
      "outputs": [
        {
          "data": {
            "text/plain": [
              "Column<'date_sub(current_date(), 3650)'>"
            ]
          },
          "execution_count": 67,
          "metadata": {},
          "output_type": "execute_result"
        }
      ],
      "source": [
        "# set up ten years ago based on today's date (actual today, the script will update based on the current world's time)\n",
        "ten_years_ago = date_sub(current_date(), 365 * 10)\n",
        "ten_years_ago"
      ]
    },
    {
      "cell_type": "code",
      "execution_count": 68,
      "metadata": {
        "colab": {
          "base_uri": "https://localhost:8080/"
        },
        "id": "y5kZm5pQq1gy",
        "outputId": "096356e0-0791-4d96-aad5-731050fa779c"
      },
      "outputs": [
        {
          "name": "stdout",
          "output_type": "stream",
          "text": [
            "+------+----+--------------------+-----------+--------------+----------+--------------------+--------+--------+--------+--------+----+--------------------+--------------------+--------------------+----+----+\n",
            "|arrest|beat|               block|case_number|community_area|      date|         description|district|domestic|fbi_code|      id|iucr|location_description|        primary_type|          updated_on|ward|year|\n",
            "+------+----+--------------------+-----------+--------------+----------+--------------------+--------+--------+--------+--------+----+--------------------+--------------------+--------------------+----+----+\n",
            "| false|0613|     011XX W 87TH ST|   JJ451188|            71|2025-10-10|              SIMPLE|     006|    true|     08A|13997562|0560|           APARTMENT|             ASSAULT|2025-10-17T15:42:...|  17|2025|\n",
            "| false|0434|   108XX S HOXIE AVE|   JJ450186|            51|2025-10-10|VIOLATE ORDER OF ...|     004|    true|      26|13997522|4387|           RESIDENCE|       OTHER OFFENSE|2025-10-17T15:42:...|  10|2025|\n",
            "| false|1611|   060XX W MIAMI AVE|   JJ447598|            10|2025-10-10|       FROM BUILDING|     016|   false|      06|13994910|0890|               ALLEY|               THEFT|2025-10-17T15:42:...|  39|2025|\n",
            "| false|0633|     002XX E 89TH PL|   JJ446369|            44|2025-10-10|          AUTOMOBILE|     006|   false|      07|13993344|0910|              STREET| MOTOR VEHICLE THEFT|2025-10-17T15:42:...|   6|2025|\n",
            "| false|0211|     0000X E 35TH ST|   JJ447154|            35|2025-10-10|      $500 AND UNDER|     002|   false|      06|13993922|0820|              STREET|               THEFT|2025-10-17T15:42:...|   3|2025|\n",
            "| false|0915|031XX S WENTWORTH...|   JJ447659|            34|2025-10-10|      $500 AND UNDER|     009|   false|      06|13994355|0820|NURSING / RETIREM...|               THEFT|2025-10-17T15:42:...|  11|2025|\n",
            "| false|0823|     035XX W 63RD PL|   JJ448816|            66|2025-10-10|THEFT FROM MOTOR ...|     008|   false|      06|13995383|0710|              STREET|               THEFT|2025-10-17T15:42:...|  14|2025|\n",
            "| false|0214|     006XX E 41ST ST|   JJ447624|            38|2025-10-10|   CREDIT CARD FRAUD|     002|   false|      11|13994333|1150|           RESIDENCE|  DECEPTIVE PRACTICE|2025-10-17T15:42:...|   4|2025|\n",
            "| false|0123| 006XX S LA SALLE ST|   JJ452443|            32|2025-10-10|THEFT FROM MOTOR ...|     001|   false|      06|13998445|0710|PARKING LOT / GAR...|               THEFT|2025-10-17T15:42:...|  34|2025|\n",
            "| false|1623| 048XX N CENTRAL AVE|   JJ446394|            11|2025-10-10|      NON-AGGRAVATED|     016|   false|      02|13993384|0281|           APARTMENT|CRIMINAL SEXUAL A...|2025-10-17T15:42:...|  45|2025|\n",
            "| false|0412|     022XX E 84TH ST|   JJ446429|            46|2025-10-10|      $500 AND UNDER|     004|    true|      06|13995046|0820|           APARTMENT|               THEFT|2025-10-17T15:42:...|   8|2025|\n",
            "| false|0331|   070XX S CLYDE AVE|   JJ448872|            43|2025-10-10|      $500 AND UNDER|     003|   false|      06|13995368|0820|              STREET|               THEFT|2025-10-17T15:42:...|   5|2025|\n",
            "| false|0823|     028XX W 63RD ST|   JJ446728|            66|2025-10-10|         TO PROPERTY|     008|   false|      14|13993673|1310|  GROCERY FOOD STORE|     CRIMINAL DAMAGE|2025-10-17T15:42:...|  15|2025|\n",
            "| false|0935|     007XX W 50TH ST|   JJ447693|            61|2025-10-09|HARASSMENT BY TEL...|     009|    true|      26|13994370|2825|VEHICLE NON-COMME...|       OTHER OFFENSE|2025-10-17T15:42:...|  20|2025|\n",
            "| false|2032|   049XX N DAMEN AVE|   JJ446500|             4|2025-10-09|          TO VEHICLE|     020|   false|      14|13993447|1320|              STREET|     CRIMINAL DAMAGE|2025-10-17T15:42:...|  40|2025|\n",
            "| false|1533|  051XX W MADISON ST|   JJ446301|            25|2025-10-09|              SIMPLE|     015|   false|     08A|13993360|0560|         GAS STATION|             ASSAULT|2025-10-17T15:42:...|  28|2025|\n",
            "|  true|0921|     029XX W 40TH PL|   JJ446318|            58|2025-10-09|AGGRAVATED - KNIF...|     009|    true|     04A|13993279|0520|           APARTMENT|             ASSAULT|2025-10-17T15:42:...|  12|2025|\n",
            "|  true|1811|016XX W FULLERTON...|   JJ446304|             7|2025-10-09|GUN OFFENDER - AN...|     018|   false|      26|13993250|5111|         GAS STATION|       OTHER OFFENSE|2025-10-17T15:42:...|  32|2025|\n",
            "| false|1912|042XX N RAVENSWOO...|   JJ446513|             5|2025-10-09|          TO VEHICLE|     019|   false|      14|13993476|1320|              STREET|     CRIMINAL DAMAGE|2025-10-17T15:42:...|  47|2025|\n",
            "| false|1133| 038XX W FLOURNOY ST|   JJ446279|            26|2025-10-09|         TO PROPERTY|     011|    true|      14|13993280|1310|RESIDENCE - PORCH...|     CRIMINAL DAMAGE|2025-10-17T15:42:...|  24|2025|\n",
            "+------+----+--------------------+-----------+--------------+----------+--------------------+--------+--------+--------+--------+----+--------------------+--------------------+--------------------+----+----+\n",
            "only showing top 20 rows\n",
            "\n"
          ]
        }
      ],
      "source": [
        "filtered_df = df_cleaned.filter(col(\"date\") >= ten_years_ago)\n",
        "filtered_df.show()"
      ]
    },
    {
      "cell_type": "code",
      "execution_count": 71,
      "metadata": {
        "colab": {
          "base_uri": "https://localhost:8080/"
        },
        "id": "fJ_V20ZJrKty",
        "outputId": "c3096cc5-0fe5-407c-ebdf-de014eb66c7a"
      },
      "outputs": [
        {
          "data": {
            "text/plain": [
              "[Row(arrest=False, beat='0921', block='042XX S ROCKWELL ST', case_number='JJ445846', community_area='58', date=datetime.date(2025, 10, 8), description='SIMPLE', district='009', domestic=False, fbi_code='08B', id='13992776', iucr='0460', location_description='SCHOOL - PUBLIC BUILDING', primary_type='BATTERY', updated_on='2025-10-16T15:42:34.000', ward='12', year='2025'),\n",
              " Row(arrest=False, beat='1431', block='020XX N CAMPBELL AVE', case_number='JJ444157', community_area='22', date=datetime.date(2025, 10, 8), description='SIMPLE', district='014', domestic=False, fbi_code='08B', id='13991535', iucr='0460', location_description='APARTMENT', primary_type='BATTERY', updated_on='2025-10-16T15:42:34.000', ward='1', year='2025'),\n",
              " Row(arrest=True, beat='0522', block='003XX W 115TH ST', case_number='JJ444154', community_area='49', date=datetime.date(2025, 10, 8), description='POSSESS - CRACK', district='005', domestic=False, fbi_code='18', id='13991544', iucr='2027', location_description='CTA BUS STOP', primary_type='NARCOTICS', updated_on='2025-10-16T15:42:34.000', ward='21', year='2025'),\n",
              " Row(arrest=False, beat='2221', block='017XX W 91ST ST', case_number='JJ444422', community_area='73', date=datetime.date(2025, 10, 8), description='TELEPHONE THREAT', district='022', domestic=False, fbi_code='08A', id='13991741', iucr='2820', location_description='RESIDENCE', primary_type='OTHER OFFENSE', updated_on='2025-10-16T15:42:34.000', ward='21', year='2025'),\n",
              " Row(arrest=False, beat='1653', block='0000X W TERMINAL ST', case_number='JJ444275', community_area='76', date=datetime.date(2025, 10, 8), description='SIMPLE', district='016', domestic=False, fbi_code='08A', id='13991765', iucr='0560', location_description='AIRPORT TERMINAL LOWER LEVEL - NON-SECURE AREA', primary_type='ASSAULT', updated_on='2025-10-16T15:42:34.000', ward='41', year='2025')]"
            ]
          },
          "execution_count": 71,
          "metadata": {},
          "output_type": "execute_result"
        }
      ],
      "source": [
        "filtered_df.tail(5)"
      ]
    },
    {
      "cell_type": "markdown",
      "metadata": {
        "id": "YK6XSLEAuKW8"
      },
      "source": []
    },
    {
      "cell_type": "markdown",
      "metadata": {
        "id": "oA3Y9BWZy-QS"
      },
      "source": [
        "# TEST AREA"
      ]
    },
    {
      "cell_type": "code",
      "execution_count": null,
      "metadata": {
        "id": "e3ZqnPYKuuyN"
      },
      "outputs": [],
      "source": [
        "# dummy text code\n",
        "## this works, but we get extra columns.\n",
        "## will try and make this work via the API for the schema\n",
        "### I used the output to make the NEW schema --10/17/2025\n",
        "### the new schema works!\n",
        "\n",
        "# if api_data:\n",
        "#   df = spark.createDataFrame(api_data)\n",
        "#   df.printSchema()\n",
        "#   df.show()\n",
        "# else:\n",
        "#     print(\"No data to create DataFrame.\")"
      ]
    }
  ],
  "metadata": {
    "colab": {
      "provenance": [],
      "toc_visible": true
    },
    "kernelspec": {
      "display_name": "base",
      "language": "python",
      "name": "python3"
    },
    "language_info": {
      "name": "python",
      "version": "3.12.4"
    }
  },
  "nbformat": 4,
  "nbformat_minor": 0
}
